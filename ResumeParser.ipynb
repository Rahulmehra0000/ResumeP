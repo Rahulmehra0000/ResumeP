{
 "cells": [
  {
   "cell_type": "markdown",
   "metadata": {},
   "source": [
    "# Importing Libraries"
   ]
  },
  {
   "cell_type": "code",
   "execution_count": 1,
   "metadata": {},
   "outputs": [
    {
     "name": "stderr",
     "output_type": "stream",
     "text": [
      "[nltk_data] Downloading package maxent_ne_chunker to\n",
      "[nltk_data]     C:\\Users\\Harshpreet Singh\\AppData\\Roaming\\nltk_data...\n",
      "[nltk_data]   Package maxent_ne_chunker is already up-to-date!\n"
     ]
    },
    {
     "data": {
      "text/plain": [
       "True"
      ]
     },
     "execution_count": 1,
     "metadata": {},
     "output_type": "execute_result"
    }
   ],
   "source": [
    "import spacy\n",
    "from spacy.matcher import Matcher\n",
    "import re\n",
    "import pandas as pd\n",
    "import numpy as np\n",
    "from nltk.corpus import stopwords\n",
    "import spacy\n",
    "from pyresparser import ResumeParser\n",
    "import numpy as np\n",
    "import re\n",
    "import nltk\n",
    "from nltk.tokenize import sent_tokenize\n",
    "import pandas as pd\n",
    "nltk.download('maxent_ne_chunker')"
   ]
  },
  {
   "cell_type": "code",
   "execution_count": 2,
   "metadata": {},
   "outputs": [
    {
     "data": {
      "text/html": [
       "<div>\n",
       "<style scoped>\n",
       "    .dataframe tbody tr th:only-of-type {\n",
       "        vertical-align: middle;\n",
       "    }\n",
       "\n",
       "    .dataframe tbody tr th {\n",
       "        vertical-align: top;\n",
       "    }\n",
       "\n",
       "    .dataframe thead th {\n",
       "        text-align: right;\n",
       "    }\n",
       "</style>\n",
       "<table border=\"1\" class=\"dataframe\">\n",
       "  <thead>\n",
       "    <tr style=\"text-align: right;\">\n",
       "      <th></th>\n",
       "      <th>Resume Text</th>\n",
       "      <th>Clean Text</th>\n",
       "    </tr>\n",
       "  </thead>\n",
       "  <tbody>\n",
       "    <tr>\n",
       "      <th>0</th>\n",
       "      <td>ANIL KUMAR MADDUKURI     SQL &amp; MSBI Developer ...</td>\n",
       "      <td>anil kumar maddukuri sql msbi developer summar...</td>\n",
       "    </tr>\n",
       "    <tr>\n",
       "      <th>1</th>\n",
       "      <td>Aradhana Tripathi Current Location: Gachibowli...</td>\n",
       "      <td>aradhana tripathi current location gachibowli ...</td>\n",
       "    </tr>\n",
       "    <tr>\n",
       "      <th>2</th>\n",
       "      <td>BUDDHA VAMSI                                  ...</td>\n",
       "      <td>buddha vamsi career objective have 2.11 year i...</td>\n",
       "    </tr>\n",
       "    <tr>\n",
       "      <th>3</th>\n",
       "      <td>Chinna Subbarayudu M DOB: 06th March 1994 Nati...</td>\n",
       "      <td>chinna subbarayudu m dob 06th march 1994 natio...</td>\n",
       "    </tr>\n",
       "    <tr>\n",
       "      <th>4</th>\n",
       "      <td>Name         : Gopi Krishna Reddy             ...</td>\n",
       "      <td>name gopi krishna reddy professional summery w...</td>\n",
       "    </tr>\n",
       "  </tbody>\n",
       "</table>\n",
       "</div>"
      ],
      "text/plain": [
       "                                         Resume Text  \\\n",
       "0  ANIL KUMAR MADDUKURI     SQL & MSBI Developer ...   \n",
       "1  Aradhana Tripathi Current Location: Gachibowli...   \n",
       "2  BUDDHA VAMSI                                  ...   \n",
       "3  Chinna Subbarayudu M DOB: 06th March 1994 Nati...   \n",
       "4  Name         : Gopi Krishna Reddy             ...   \n",
       "\n",
       "                                          Clean Text  \n",
       "0  anil kumar maddukuri sql msbi developer summar...  \n",
       "1  aradhana tripathi current location gachibowli ...  \n",
       "2  buddha vamsi career objective have 2.11 year i...  \n",
       "3  chinna subbarayudu m dob 06th march 1994 natio...  \n",
       "4  name gopi krishna reddy professional summery w...  "
      ]
     },
     "execution_count": 2,
     "metadata": {},
     "output_type": "execute_result"
    }
   ],
   "source": [
    "import pandas as pd\n",
    "df = pd.read_csv('processed_resume_data.csv')\n",
    "df = df.iloc[:,1:]\n",
    "df.head()"
   ]
  },
  {
   "cell_type": "markdown",
   "metadata": {},
   "source": [
    "# Extracting Names"
   ]
  },
  {
   "cell_type": "code",
   "execution_count": 4,
   "metadata": {},
   "outputs": [
    {
     "name": "stderr",
     "output_type": "stream",
     "text": [
      "C:\\Program Files\\Python39\\lib\\site-packages\\spacy\\util.py:275: UserWarning: [W031] Model 'en_core_web_sm' (2.2.0) requires spaCy v2.2 and is incompatible with the current spaCy version (2.3.5). This may lead to unexpected results or runtime errors. To resolve this, download a newer compatible model or retrain your custom model with the current spaCy version. For more details and available updates, run: python -m spacy validate\n",
      "  warnings.warn(warn_msg)\n"
     ]
    }
   ],
   "source": [
    "# load pre-trained model\n",
    "nlp = spacy.load('en_core_web_sm')\n",
    "\n",
    "# initialize matcher with a vocab\n",
    "matcher = Matcher(nlp.vocab)\n",
    "name = []\n",
    "def extract_name(resume_text, isCapital = False):\n",
    "    if isCapital:\n",
    "        return re.findall(r\"[A-Z][A-Z]+\\s+[A-Z][A-Z]+\", resume_text)[0]\n",
    "    else:\n",
    "        nlp_text = nlp(resume_text)\n",
    "        \n",
    "        # First name and Last name are always Proper Nouns\n",
    "        pattern = [{'POS': 'PROPN'}, {'POS': 'PROPN'}]\n",
    "        \n",
    "        matcher.add('NAME', [pattern], on_match=None)\n",
    "        \n",
    "        matches = matcher(nlp_text)\n",
    "        \n",
    "        for match_id, start, end in matches:\n",
    "            span = nlp_text[start:end]\n",
    "            return span.text\n",
    "\n",
    "# Calling function\n",
    "for text in df['Resume Text']:\n",
    "    name.append(extract_name(text, isCapital=False))"
   ]
  },
  {
   "cell_type": "code",
   "execution_count": 5,
   "metadata": {},
   "outputs": [],
   "source": [
    "details_df = pd.DataFrame(name, columns=['Name'])"
   ]
  },
  {
   "cell_type": "code",
   "execution_count": 78,
   "metadata": {},
   "outputs": [
    {
     "data": {
      "text/html": [
       "<div>\n",
       "<style scoped>\n",
       "    .dataframe tbody tr th:only-of-type {\n",
       "        vertical-align: middle;\n",
       "    }\n",
       "\n",
       "    .dataframe tbody tr th {\n",
       "        vertical-align: top;\n",
       "    }\n",
       "\n",
       "    .dataframe thead th {\n",
       "        text-align: right;\n",
       "    }\n",
       "</style>\n",
       "<table border=\"1\" class=\"dataframe\">\n",
       "  <thead>\n",
       "    <tr style=\"text-align: right;\">\n",
       "      <th></th>\n",
       "      <th>Name</th>\n",
       "    </tr>\n",
       "  </thead>\n",
       "  <tbody>\n",
       "    <tr>\n",
       "      <th>0</th>\n",
       "      <td>ANIL KUMAR</td>\n",
       "    </tr>\n",
       "    <tr>\n",
       "      <th>1</th>\n",
       "      <td>Aradhana Tripathi</td>\n",
       "    </tr>\n",
       "    <tr>\n",
       "      <th>2</th>\n",
       "      <td>Database Engineer</td>\n",
       "    </tr>\n",
       "    <tr>\n",
       "      <th>3</th>\n",
       "      <td>Chinna Subbarayudu</td>\n",
       "    </tr>\n",
       "    <tr>\n",
       "      <th>4</th>\n",
       "      <td>Gopi Krishna</td>\n",
       "    </tr>\n",
       "  </tbody>\n",
       "</table>\n",
       "</div>"
      ],
      "text/plain": [
       "                 Name\n",
       "0          ANIL KUMAR\n",
       "1   Aradhana Tripathi\n",
       "2   Database Engineer\n",
       "3  Chinna Subbarayudu\n",
       "4        Gopi Krishna"
      ]
     },
     "execution_count": 78,
     "metadata": {},
     "output_type": "execute_result"
    }
   ],
   "source": [
    "details_df.head()"
   ]
  },
  {
   "cell_type": "markdown",
   "metadata": {},
   "source": [
    "# Extracting Number"
   ]
  },
  {
   "cell_type": "code",
   "execution_count": 6,
   "metadata": {},
   "outputs": [],
   "source": [
    "# +911234567890 or 1234567890 or +91-1234567890 or +91 1234567890\n",
    "number = []\n",
    "def extract_mobile_number(text):\n",
    "    y = re.findall(r'[+]91[0-9]+|[0-9]{10}|[+?][0-9]+-[0-9]+| [+?][0-9]+\\s[0-9]+',text)\n",
    "    return y\n",
    "\n",
    "# Calling Function\n",
    "for text in df['Resume Text']:\n",
    "    number.append(extract_mobile_number(text))"
   ]
  },
  {
   "cell_type": "code",
   "execution_count": 7,
   "metadata": {},
   "outputs": [],
   "source": [
    "details_df['Number'] = number\n",
    "details_df.head()"
   ]
  },
  {
   "cell_type": "markdown",
   "metadata": {},
   "source": [
    "# Extracting Email"
   ]
  },
  {
   "cell_type": "code",
   "execution_count": 8,
   "metadata": {},
   "outputs": [],
   "source": [
    "email = []\n",
    "def extract_email(text):\n",
    "    email = re.findall(\"[a-z0-9\\.\\-+_]+@[a-z0-9\\.\\-+_]+\\.[a-z]+\", text)\n",
    "    if email:\n",
    "        try:\n",
    "            return email[0].split()[0].strip(';')\n",
    "        except IndexError:\n",
    "            return None\n",
    "\n",
    "# Calling function\n",
    "for text in df['Resume Text']:\n",
    "    email.append(extract_email(text))"
   ]
  },
  {
   "cell_type": "code",
   "execution_count": 82,
   "metadata": {},
   "outputs": [
    {
     "data": {
      "text/html": [
       "<div>\n",
       "<style scoped>\n",
       "    .dataframe tbody tr th:only-of-type {\n",
       "        vertical-align: middle;\n",
       "    }\n",
       "\n",
       "    .dataframe tbody tr th {\n",
       "        vertical-align: top;\n",
       "    }\n",
       "\n",
       "    .dataframe thead th {\n",
       "        text-align: right;\n",
       "    }\n",
       "</style>\n",
       "<table border=\"1\" class=\"dataframe\">\n",
       "  <thead>\n",
       "    <tr style=\"text-align: right;\">\n",
       "      <th></th>\n",
       "      <th>Name</th>\n",
       "      <th>Number</th>\n",
       "      <th>Email ID</th>\n",
       "    </tr>\n",
       "  </thead>\n",
       "  <tbody>\n",
       "    <tr>\n",
       "      <th>0</th>\n",
       "      <td>ANIL KUMAR</td>\n",
       "      <td>[+911234567890]</td>\n",
       "      <td>ijayawadaabc@xyz.com</td>\n",
       "    </tr>\n",
       "    <tr>\n",
       "      <th>1</th>\n",
       "      <td>Aradhana Tripathi</td>\n",
       "      <td>[+911234567890]</td>\n",
       "      <td>niversity.abc@xyz.com</td>\n",
       "    </tr>\n",
       "    <tr>\n",
       "      <th>2</th>\n",
       "      <td>Database Engineer</td>\n",
       "      <td>[+911234567890]</td>\n",
       "      <td>knowledge.abc@xyz.com</td>\n",
       "    </tr>\n",
       "    <tr>\n",
       "      <th>3</th>\n",
       "      <td>Chinna Subbarayudu</td>\n",
       "      <td>[+911234567890]</td>\n",
       "      <td>2abc@xyz.com</td>\n",
       "    </tr>\n",
       "    <tr>\n",
       "      <th>4</th>\n",
       "      <td>Gopi Krishna</td>\n",
       "      <td>[+911234567890]</td>\n",
       "      <td>annada.abc@xyz.com</td>\n",
       "    </tr>\n",
       "  </tbody>\n",
       "</table>\n",
       "</div>"
      ],
      "text/plain": [
       "                 Name           Number               Email ID\n",
       "0          ANIL KUMAR  [+911234567890]   ijayawadaabc@xyz.com\n",
       "1   Aradhana Tripathi  [+911234567890]  niversity.abc@xyz.com\n",
       "2   Database Engineer  [+911234567890]  knowledge.abc@xyz.com\n",
       "3  Chinna Subbarayudu  [+911234567890]           2abc@xyz.com\n",
       "4        Gopi Krishna  [+911234567890]     annada.abc@xyz.com"
      ]
     },
     "execution_count": 82,
     "metadata": {},
     "output_type": "execute_result"
    }
   ],
   "source": [
    "details_df['Email ID'] = email\n",
    "details_df.head()"
   ]
  },
  {
   "cell_type": "markdown",
   "metadata": {},
   "source": [
    "# Extracting links"
   ]
  },
  {
   "cell_type": "code",
   "execution_count": 10,
   "metadata": {},
   "outputs": [],
   "source": [
    "links = []\n",
    "def extract_links(text):\n",
    "    y = re.findall(r'(https://(www.)?[a-z]+.com(/in)?/[a-z0-9]+)',text)    # Pattern to extract links\n",
    "    links = []\n",
    "    for strings in y:\n",
    "        for link in strings:\n",
    "            if len(link) > 4:\n",
    "                links.append(link)\n",
    "    return links\n",
    "\n",
    "# Calling function\n",
    "for text in df['Resume Text']:\n",
    "    links.append(extract_links(text))"
   ]
  },
  {
   "cell_type": "code",
   "execution_count": 84,
   "metadata": {},
   "outputs": [
    {
     "data": {
      "text/html": [
       "<div>\n",
       "<style scoped>\n",
       "    .dataframe tbody tr th:only-of-type {\n",
       "        vertical-align: middle;\n",
       "    }\n",
       "\n",
       "    .dataframe tbody tr th {\n",
       "        vertical-align: top;\n",
       "    }\n",
       "\n",
       "    .dataframe thead th {\n",
       "        text-align: right;\n",
       "    }\n",
       "</style>\n",
       "<table border=\"1\" class=\"dataframe\">\n",
       "  <thead>\n",
       "    <tr style=\"text-align: right;\">\n",
       "      <th></th>\n",
       "      <th>Name</th>\n",
       "      <th>Number</th>\n",
       "      <th>Email ID</th>\n",
       "      <th>Links</th>\n",
       "    </tr>\n",
       "  </thead>\n",
       "  <tbody>\n",
       "    <tr>\n",
       "      <th>0</th>\n",
       "      <td>ANIL KUMAR</td>\n",
       "      <td>[+911234567890]</td>\n",
       "      <td>ijayawadaabc@xyz.com</td>\n",
       "      <td>[https://www.linkedin.com/fake, https://www.gi...</td>\n",
       "    </tr>\n",
       "    <tr>\n",
       "      <th>1</th>\n",
       "      <td>Aradhana Tripathi</td>\n",
       "      <td>[+911234567890]</td>\n",
       "      <td>niversity.abc@xyz.com</td>\n",
       "      <td>[https://www.linkedin.com/fake, https://www.gi...</td>\n",
       "    </tr>\n",
       "    <tr>\n",
       "      <th>2</th>\n",
       "      <td>Database Engineer</td>\n",
       "      <td>[+911234567890]</td>\n",
       "      <td>knowledge.abc@xyz.com</td>\n",
       "      <td>[https://www.linkedin.com/fake, https://www.gi...</td>\n",
       "    </tr>\n",
       "    <tr>\n",
       "      <th>3</th>\n",
       "      <td>Chinna Subbarayudu</td>\n",
       "      <td>[+911234567890]</td>\n",
       "      <td>2abc@xyz.com</td>\n",
       "      <td>[https://www.linkedin.com/fake, https://www.gi...</td>\n",
       "    </tr>\n",
       "    <tr>\n",
       "      <th>4</th>\n",
       "      <td>Gopi Krishna</td>\n",
       "      <td>[+911234567890]</td>\n",
       "      <td>annada.abc@xyz.com</td>\n",
       "      <td>[https://www.linkedin.com/fake, https://www.gi...</td>\n",
       "    </tr>\n",
       "  </tbody>\n",
       "</table>\n",
       "</div>"
      ],
      "text/plain": [
       "                 Name           Number               Email ID  \\\n",
       "0          ANIL KUMAR  [+911234567890]   ijayawadaabc@xyz.com   \n",
       "1   Aradhana Tripathi  [+911234567890]  niversity.abc@xyz.com   \n",
       "2   Database Engineer  [+911234567890]  knowledge.abc@xyz.com   \n",
       "3  Chinna Subbarayudu  [+911234567890]           2abc@xyz.com   \n",
       "4        Gopi Krishna  [+911234567890]     annada.abc@xyz.com   \n",
       "\n",
       "                                               Links  \n",
       "0  [https://www.linkedin.com/fake, https://www.gi...  \n",
       "1  [https://www.linkedin.com/fake, https://www.gi...  \n",
       "2  [https://www.linkedin.com/fake, https://www.gi...  \n",
       "3  [https://www.linkedin.com/fake, https://www.gi...  \n",
       "4  [https://www.linkedin.com/fake, https://www.gi...  "
      ]
     },
     "execution_count": 84,
     "metadata": {},
     "output_type": "execute_result"
    }
   ],
   "source": [
    "details_df['Links'] = links\n",
    "details_df.head()"
   ]
  },
  {
   "cell_type": "markdown",
   "metadata": {},
   "source": [
    "# Extracting Education"
   ]
  },
  {
   "cell_type": "code",
   "execution_count": 7,
   "metadata": {},
   "outputs": [],
   "source": [
    "# details_df = pd.read_csv('FinalDF.csv')\n",
    "# details_df = df.iloc[:,1:]"
   ]
  },
  {
   "cell_type": "code",
   "execution_count": 12,
   "metadata": {},
   "outputs": [
    {
     "name": "stderr",
     "output_type": "stream",
     "text": [
      "C:\\Program Files\\Python39\\lib\\site-packages\\spacy\\util.py:275: UserWarning: [W031] Model 'en_core_web_sm' (2.2.0) requires spaCy v2.2 and is incompatible with the current spaCy version (2.3.5). This may lead to unexpected results or runtime errors. To resolve this, download a newer compatible model or retrain your custom model with the current spaCy version. For more details and available updates, run: python -m spacy validate\n",
      "  warnings.warn(warn_msg)\n"
     ]
    }
   ],
   "source": [
    "import spacy\n",
    "from nltk.corpus import stopwords\n",
    "\n",
    "# load pre-trained model\n",
    "nlp = spacy.load('en_core_web_sm')\n",
    "\n",
    "# Grad all general stop words\n",
    "STOPWORDS = set(stopwords.words('english'))\n",
    "\n",
    "# Education Degrees\n",
    "EDUCATION = [\n",
    "            'BE','B.E.', 'B.E', 'BS', 'B.S', 'B.SC', 'B E', 'B. E.','B. E','B S','B. S','B. SC'\n",
    "            'ME', 'M.E', 'M.E.', 'MS', 'M.S', 'B-TECH','M-TECH','M E', 'M. E', 'M. E.', 'M S', 'M. S',\n",
    "            'BTECH', 'B.TECH', 'M.TECH', 'MTECH','B TECH', 'B. TECH', 'M. TECH', 'M TECH',\n",
    "            'B. TECH','M. TECH','B TECH','M TECH',\n",
    "            'SSC', 'HSC', 'CBSE', 'ICSE', 'X', 'XII',\n",
    "            'Bachelor of Technology','Senior Secondary'\n",
    "            'BBA','B.B.A.','BCA','B.C.A.','BA','B.A.',\n",
    "            'B.COM','B.ED','L.L.B.','LLB','LLM','L.L.M.',\n",
    "            'MBA','M.B.A.','MCA','M.C.A.','MS','M.S.','MD',\n",
    "            'M.D.','NDA','N.D.A.','PHD','PGDM','P.G.D.M.'\n",
    "        ]\n",
    "\n",
    "\n",
    "education = []\n",
    "def extract_education(resume_text):\n",
    "    nlp_text = nlp(resume_text)\n",
    "\n",
    "    # Sentence Tokenizer\n",
    "    nlp_text = [sent.text.strip() for sent in nlp_text.sents]\n",
    "\n",
    "    edu = {}\n",
    "    # Extract education degree\n",
    "    for index, text in enumerate(nlp_text):\n",
    "        for tex in text.split():\n",
    "            # Replace all special symbols\n",
    "            tex = re.sub(r'[?|$|.|!|,]', r'', tex)\n",
    "            if tex.upper() in EDUCATION and tex not in STOPWORDS:\n",
    "                edu[tex] = text + nlp_text[index]   # Storing degree in a dictionary\n",
    "\n",
    "    # Extract year\n",
    "    education = []\n",
    "    if edu:\n",
    "        for key in edu.keys():\n",
    "            year = re.search(re.compile(r'(((20|19)(\\d{2})))'), edu[key])   # Search for Year of Passing\n",
    "            if year:\n",
    "                education.append((key, ''.join(year[0])))\n",
    "            else:\n",
    "                education.append(key)\n",
    "        return education\n",
    "    else:\n",
    "        EDU_PATTERN = re.findall(r'Bachelors? \\D+|Masters? \\D+',resume_text)    # If no degree is found, try searching for Bachelors or Masters in xyz\n",
    "        return EDU_PATTERN\n",
    "        \n",
    "\n",
    "# Calling function\n",
    "for text in df['Resume Text']:\n",
    "    education.append(extract_education(text))"
   ]
  },
  {
   "cell_type": "code",
   "execution_count": 86,
   "metadata": {},
   "outputs": [
    {
     "data": {
      "text/html": [
       "<div>\n",
       "<style scoped>\n",
       "    .dataframe tbody tr th:only-of-type {\n",
       "        vertical-align: middle;\n",
       "    }\n",
       "\n",
       "    .dataframe tbody tr th {\n",
       "        vertical-align: top;\n",
       "    }\n",
       "\n",
       "    .dataframe thead th {\n",
       "        text-align: right;\n",
       "    }\n",
       "</style>\n",
       "<table border=\"1\" class=\"dataframe\">\n",
       "  <thead>\n",
       "    <tr style=\"text-align: right;\">\n",
       "      <th></th>\n",
       "      <th>Name</th>\n",
       "      <th>Number</th>\n",
       "      <th>Email ID</th>\n",
       "      <th>Links</th>\n",
       "      <th>Education</th>\n",
       "    </tr>\n",
       "  </thead>\n",
       "  <tbody>\n",
       "    <tr>\n",
       "      <th>0</th>\n",
       "      <td>ANIL KUMAR</td>\n",
       "      <td>[+911234567890]</td>\n",
       "      <td>ijayawadaabc@xyz.com</td>\n",
       "      <td>[https://www.linkedin.com/fake, https://www.gi...</td>\n",
       "      <td>[(MS, 2016), BTech]</td>\n",
       "    </tr>\n",
       "    <tr>\n",
       "      <th>1</th>\n",
       "      <td>Aradhana Tripathi</td>\n",
       "      <td>[+911234567890]</td>\n",
       "      <td>niversity.abc@xyz.com</td>\n",
       "      <td>[https://www.linkedin.com/fake, https://www.gi...</td>\n",
       "      <td>[MS, MCA]</td>\n",
       "    </tr>\n",
       "    <tr>\n",
       "      <th>2</th>\n",
       "      <td>Database Engineer</td>\n",
       "      <td>[+911234567890]</td>\n",
       "      <td>knowledge.abc@xyz.com</td>\n",
       "      <td>[https://www.linkedin.com/fake, https://www.gi...</td>\n",
       "      <td>[MS, (SSC, 2011)]</td>\n",
       "    </tr>\n",
       "    <tr>\n",
       "      <th>3</th>\n",
       "      <td>Chinna Subbarayudu</td>\n",
       "      <td>[+911234567890]</td>\n",
       "      <td>2abc@xyz.com</td>\n",
       "      <td>[https://www.linkedin.com/fake, https://www.gi...</td>\n",
       "      <td>[MS]</td>\n",
       "    </tr>\n",
       "    <tr>\n",
       "      <th>4</th>\n",
       "      <td>Gopi Krishna</td>\n",
       "      <td>[+911234567890]</td>\n",
       "      <td>annada.abc@xyz.com</td>\n",
       "      <td>[https://www.linkedin.com/fake, https://www.gi...</td>\n",
       "      <td>[Bachelor of Degree from JNTU - K University in ]</td>\n",
       "    </tr>\n",
       "  </tbody>\n",
       "</table>\n",
       "</div>"
      ],
      "text/plain": [
       "                 Name           Number               Email ID  \\\n",
       "0          ANIL KUMAR  [+911234567890]   ijayawadaabc@xyz.com   \n",
       "1   Aradhana Tripathi  [+911234567890]  niversity.abc@xyz.com   \n",
       "2   Database Engineer  [+911234567890]  knowledge.abc@xyz.com   \n",
       "3  Chinna Subbarayudu  [+911234567890]           2abc@xyz.com   \n",
       "4        Gopi Krishna  [+911234567890]     annada.abc@xyz.com   \n",
       "\n",
       "                                               Links  \\\n",
       "0  [https://www.linkedin.com/fake, https://www.gi...   \n",
       "1  [https://www.linkedin.com/fake, https://www.gi...   \n",
       "2  [https://www.linkedin.com/fake, https://www.gi...   \n",
       "3  [https://www.linkedin.com/fake, https://www.gi...   \n",
       "4  [https://www.linkedin.com/fake, https://www.gi...   \n",
       "\n",
       "                                           Education  \n",
       "0                                [(MS, 2016), BTech]  \n",
       "1                                          [MS, MCA]  \n",
       "2                                  [MS, (SSC, 2011)]  \n",
       "3                                               [MS]  \n",
       "4  [Bachelor of Degree from JNTU - K University in ]  "
      ]
     },
     "execution_count": 86,
     "metadata": {},
     "output_type": "execute_result"
    }
   ],
   "source": [
    "details_df['Education'] = education\n",
    "details_df.head()"
   ]
  },
  {
   "cell_type": "code",
   "execution_count": 87,
   "metadata": {},
   "outputs": [
    {
     "data": {
      "text/plain": [
       "0"
      ]
     },
     "execution_count": 87,
     "metadata": {},
     "output_type": "execute_result"
    }
   ],
   "source": [
    "details_df['Education'].isnull().sum()"
   ]
  },
  {
   "cell_type": "code",
   "execution_count": 16,
   "metadata": {},
   "outputs": [],
   "source": [
    "# details_df.to_csv('FinalDF.csv')"
   ]
  },
  {
   "cell_type": "markdown",
   "metadata": {},
   "source": [
    "# Skills"
   ]
  },
  {
   "cell_type": "code",
   "execution_count": 44,
   "metadata": {},
   "outputs": [
    {
     "name": "stderr",
     "output_type": "stream",
     "text": [
      "C:\\Program Files\\Python39\\lib\\site-packages\\spacy\\util.py:275: UserWarning: [W031] Model 'en_core_web_sm' (2.2.0) requires spaCy v2.2 and is incompatible with the current spaCy version (2.3.5). This may lead to unexpected results or runtime errors. To resolve this, download a newer compatible model or retrain your custom model with the current spaCy version. For more details and available updates, run: python -m spacy validate\n",
      "  warnings.warn(warn_msg)\n",
      "C:\\Program Files\\Python39\\lib\\site-packages\\spacy\\util.py:275: UserWarning: [W031] Model 'en_training' (0.0.0) requires spaCy v2.1 and is incompatible with the current spaCy version (2.3.5). This may lead to unexpected results or runtime errors. To resolve this, download a newer compatible model or retrain your custom model with the current spaCy version. For more details and available updates, run: python -m spacy validate\n",
      "  warnings.warn(warn_msg)\n"
     ]
    }
   ],
   "source": [
    "from pyresparser import ResumeParser\n",
    "mypath = 'Resumes2'\n",
    "onlyfiles = [f for f in listdir(mypath) if isfile(join(mypath, f))]\n",
    "skills = []\n",
    "\n",
    "# Extracting skills\n",
    "for file in path:\n",
    "    skills.append(ResumeParser(f'/content/drive/My Drive/Resumes2/{file}').get_extracted_data()['skills'])  \n",
    "skills = np.array(skills).reshape(-1,1)\n",
    "df = pd.DataFrame(skills, columns=['Skills'])\n",
    "df.to_csv('SkillsDF.csv')"
   ]
  },
  {
   "cell_type": "code",
   "execution_count": 89,
   "metadata": {},
   "outputs": [
    {
     "data": {
      "text/html": [
       "<div>\n",
       "<style scoped>\n",
       "    .dataframe tbody tr th:only-of-type {\n",
       "        vertical-align: middle;\n",
       "    }\n",
       "\n",
       "    .dataframe tbody tr th {\n",
       "        vertical-align: top;\n",
       "    }\n",
       "\n",
       "    .dataframe thead th {\n",
       "        text-align: right;\n",
       "    }\n",
       "</style>\n",
       "<table border=\"1\" class=\"dataframe\">\n",
       "  <thead>\n",
       "    <tr style=\"text-align: right;\">\n",
       "      <th></th>\n",
       "      <th>Name</th>\n",
       "      <th>Number</th>\n",
       "      <th>Email ID</th>\n",
       "      <th>Links</th>\n",
       "      <th>Education</th>\n",
       "      <th>Skills</th>\n",
       "    </tr>\n",
       "  </thead>\n",
       "  <tbody>\n",
       "    <tr>\n",
       "      <th>0</th>\n",
       "      <td>ANIL KUMAR</td>\n",
       "      <td>[+911234567890]</td>\n",
       "      <td>ijayawadaabc@xyz.com</td>\n",
       "      <td>[https://www.linkedin.com/fake, https://www.gi...</td>\n",
       "      <td>[(MS, 2016), BTech]</td>\n",
       "      <td>['Sql', 'Debugging', 'Technical', 'Windows', '...</td>\n",
       "    </tr>\n",
       "    <tr>\n",
       "      <th>1</th>\n",
       "      <td>Aradhana Tripathi</td>\n",
       "      <td>[+911234567890]</td>\n",
       "      <td>niversity.abc@xyz.com</td>\n",
       "      <td>[https://www.linkedin.com/fake, https://www.gi...</td>\n",
       "      <td>[MS, MCA]</td>\n",
       "      <td>['Sql', 'Acquisition', 'Stakeholder management...</td>\n",
       "    </tr>\n",
       "    <tr>\n",
       "      <th>2</th>\n",
       "      <td>Database Engineer</td>\n",
       "      <td>[+911234567890]</td>\n",
       "      <td>knowledge.abc@xyz.com</td>\n",
       "      <td>[https://www.linkedin.com/fake, https://www.gi...</td>\n",
       "      <td>[MS, (SSC, 2011)]</td>\n",
       "      <td>['Sql', 'Servers', 'Technical', 'Programming',...</td>\n",
       "    </tr>\n",
       "    <tr>\n",
       "      <th>3</th>\n",
       "      <td>Chinna Subbarayudu</td>\n",
       "      <td>[+911234567890]</td>\n",
       "      <td>2abc@xyz.com</td>\n",
       "      <td>[https://www.linkedin.com/fake, https://www.gi...</td>\n",
       "      <td>[MS]</td>\n",
       "      <td>['Policies', 'Sql', 'Web services', 'Prototypi...</td>\n",
       "    </tr>\n",
       "    <tr>\n",
       "      <th>4</th>\n",
       "      <td>Gopi Krishna</td>\n",
       "      <td>[+911234567890]</td>\n",
       "      <td>annada.abc@xyz.com</td>\n",
       "      <td>[https://www.linkedin.com/fake, https://www.gi...</td>\n",
       "      <td>[Bachelor of Degree from JNTU - K University in ]</td>\n",
       "      <td>['Specifications', 'Technical', 'Communication...</td>\n",
       "    </tr>\n",
       "  </tbody>\n",
       "</table>\n",
       "</div>"
      ],
      "text/plain": [
       "                 Name           Number               Email ID  \\\n",
       "0          ANIL KUMAR  [+911234567890]   ijayawadaabc@xyz.com   \n",
       "1   Aradhana Tripathi  [+911234567890]  niversity.abc@xyz.com   \n",
       "2   Database Engineer  [+911234567890]  knowledge.abc@xyz.com   \n",
       "3  Chinna Subbarayudu  [+911234567890]           2abc@xyz.com   \n",
       "4        Gopi Krishna  [+911234567890]     annada.abc@xyz.com   \n",
       "\n",
       "                                               Links  \\\n",
       "0  [https://www.linkedin.com/fake, https://www.gi...   \n",
       "1  [https://www.linkedin.com/fake, https://www.gi...   \n",
       "2  [https://www.linkedin.com/fake, https://www.gi...   \n",
       "3  [https://www.linkedin.com/fake, https://www.gi...   \n",
       "4  [https://www.linkedin.com/fake, https://www.gi...   \n",
       "\n",
       "                                           Education  \\\n",
       "0                                [(MS, 2016), BTech]   \n",
       "1                                          [MS, MCA]   \n",
       "2                                  [MS, (SSC, 2011)]   \n",
       "3                                               [MS]   \n",
       "4  [Bachelor of Degree from JNTU - K University in ]   \n",
       "\n",
       "                                              Skills  \n",
       "0  ['Sql', 'Debugging', 'Technical', 'Windows', '...  \n",
       "1  ['Sql', 'Acquisition', 'Stakeholder management...  \n",
       "2  ['Sql', 'Servers', 'Technical', 'Programming',...  \n",
       "3  ['Policies', 'Sql', 'Web services', 'Prototypi...  \n",
       "4  ['Specifications', 'Technical', 'Communication...  "
      ]
     },
     "execution_count": 89,
     "metadata": {},
     "output_type": "execute_result"
    }
   ],
   "source": [
    "skills_df = pd.read_csv('SkillsDF.csv')\n",
    "skills_df = skills_df.iloc[:,1:]\n",
    "details_df['Skills'] = skills_df['Skills']\n",
    "details_df.head()"
   ]
  },
  {
   "cell_type": "code",
   "execution_count": 90,
   "metadata": {},
   "outputs": [
    {
     "data": {
      "text/plain": [
       "Name         0\n",
       "Number       0\n",
       "Email ID     0\n",
       "Links        0\n",
       "Education    0\n",
       "Skills       0\n",
       "dtype: int64"
      ]
     },
     "execution_count": 90,
     "metadata": {},
     "output_type": "execute_result"
    }
   ],
   "source": [
    "details_df.isnull().sum()"
   ]
  },
  {
   "cell_type": "code",
   "execution_count": 91,
   "metadata": {},
   "outputs": [],
   "source": [
    "# details_df.to_csv('FinalDF.csv')"
   ]
  },
  {
   "cell_type": "code",
   "execution_count": 5,
   "metadata": {},
   "outputs": [],
   "source": [
    "import pandas as pd\n",
    "details_df = pd.read_csv('FinalDF.csv')\n",
    "df = pd.read_csv('processed_resume_data.csv')\n",
    "details_df = details_df.iloc[:,1:]\n",
    "df = df.iloc[:,1:]"
   ]
  },
  {
   "cell_type": "code",
   "execution_count": 48,
   "metadata": {},
   "outputs": [],
   "source": [
    "import re\n",
    "import nltk\n",
    "from nltk.tokenize import sent_tokenize"
   ]
  },
  {
   "cell_type": "code",
   "execution_count": 49,
   "metadata": {},
   "outputs": [
    {
     "name": "stderr",
     "output_type": "stream",
     "text": [
      "[nltk_data] Downloading package maxent_ne_chunker to\n",
      "[nltk_data]     C:\\Users\\Harshpreet Singh\\AppData\\Roaming\\nltk_data...\n",
      "[nltk_data]   Package maxent_ne_chunker is already up-to-date!\n"
     ]
    },
    {
     "data": {
      "text/plain": [
       "True"
      ]
     },
     "execution_count": 49,
     "metadata": {},
     "output_type": "execute_result"
    }
   ],
   "source": [
    "nltk.download('maxent_ne_chunker')"
   ]
  },
  {
   "cell_type": "markdown",
   "metadata": {},
   "source": [
    "# Extracting University Name"
   ]
  },
  {
   "cell_type": "code",
   "execution_count": 50,
   "metadata": {},
   "outputs": [],
   "source": [
    "uni_df = pd.read_csv('List of Universities.csv')\n",
    "uni_df = uni_df.iloc[:,1:]"
   ]
  },
  {
   "cell_type": "code",
   "execution_count": 52,
   "metadata": {},
   "outputs": [],
   "source": [
    "f_uni = []\n",
    "\n",
    "for k in range(len(df)):    # Loop to input Resumes one at a time\n",
    "    university_name = []\n",
    "    lines = sent_tokenize(df['Resume Text'][k])          # Tokenizing text into sentences\n",
    "    for sentence in lines:                               # Loop to run through each sentence\n",
    "            if re.search('university',sentence.lower()) or re.search('education',sentence.lower()) or re.search('qualifications',sentence.lower()): # Search for words like education in sentence\n",
    "            # print(sentence)\n",
    "                if re.search(r'\\s{3,5}',sentence):  # If sentence has more than 3 spaces between words then split them\n",
    "                    sens = re.split(r'\\s{3,5}', sentence)\n",
    "                    for i in sens:\n",
    "                        if re.search('university',i.lower()) or re.search('education',i.lower()) or re.search('qualifications',i.lower()):  # Search for keywords like education in splitted sentences\n",
    "                            edu_sen = i\n",
    "                            # print(i[:100])\n",
    "                            for j in uni_df['Name of University']:  # Loop to run through each university name\n",
    "                                if re.search(j.lower(),edu_sen.lower()):\n",
    "                                    university_name.append(j)   # If university is found, append it.\n",
    "                                    # print(j)\n",
    "\n",
    "                else:                               # If there are no 3-5 spaces found, then run following\n",
    "                    edu_sen = sentence\n",
    "                    for j in uni_df['Name of University']:      # Loop to run through each university name\n",
    "                        if re.search(j.lower(),edu_sen.lower()):\n",
    "                            university_name.append(j)           # If university is found, append it.\n",
    "            \n",
    "\n",
    "                if university_name:\n",
    "                    continue\n",
    "                else:\n",
    "                    # print(sentence)\n",
    "                    university_name.append(sentence)    # If particular university name not found, append whole sentence with keywords like education.\n",
    "\n",
    "    # Remove duplicates    \n",
    "    for i in range(len(university_name)-1):\n",
    "        if university_name[i] == university_name[i+1]:\n",
    "            del university_name[i]\n",
    "    \n",
    "    # Finally, appending all found universities and moving onto next resume\n",
    "    f_uni.append(university_name)"
   ]
  },
  {
   "cell_type": "code",
   "execution_count": 223,
   "metadata": {},
   "outputs": [
    {
     "data": {
      "text/plain": [
       "78"
      ]
     },
     "execution_count": 223,
     "metadata": {},
     "output_type": "execute_result"
    }
   ],
   "source": [
    "len(f_uni)"
   ]
  },
  {
   "cell_type": "code",
   "execution_count": 229,
   "metadata": {},
   "outputs": [],
   "source": [
    "def clean_data(text):\n",
    "    text = re.sub('\\s+',' ',str(text)) # Remove Extra Spaces\n",
    "    text = re.sub('abc@xyz.com +911234567890 https://www.linkedin.com/fake https://www.github.com/fake','',str(text)) # Remove gibberish \n",
    "    return text\n",
    "\n",
    "# Calling function\n",
    "uni_list = []\n",
    "for ele in f_uni:\n",
    "    uni_list.append(clean_data(ele))"
   ]
  },
  {
   "cell_type": "code",
   "execution_count": 231,
   "metadata": {},
   "outputs": [
    {
     "data": {
      "text/plain": [
       "78"
      ]
     },
     "execution_count": 231,
     "metadata": {},
     "output_type": "execute_result"
    }
   ],
   "source": [
    "len(uni_list)"
   ]
  },
  {
   "cell_type": "code",
   "execution_count": 232,
   "metadata": {},
   "outputs": [
    {
     "data": {
      "text/html": [
       "<div>\n",
       "<style scoped>\n",
       "    .dataframe tbody tr th:only-of-type {\n",
       "        vertical-align: middle;\n",
       "    }\n",
       "\n",
       "    .dataframe tbody tr th {\n",
       "        vertical-align: top;\n",
       "    }\n",
       "\n",
       "    .dataframe thead th {\n",
       "        text-align: right;\n",
       "    }\n",
       "</style>\n",
       "<table border=\"1\" class=\"dataframe\">\n",
       "  <thead>\n",
       "    <tr style=\"text-align: right;\">\n",
       "      <th></th>\n",
       "      <th>Name</th>\n",
       "      <th>Number</th>\n",
       "      <th>Email ID</th>\n",
       "      <th>Links</th>\n",
       "      <th>Education</th>\n",
       "      <th>Skills</th>\n",
       "      <th>University Name</th>\n",
       "      <th>Years of Experience</th>\n",
       "    </tr>\n",
       "  </thead>\n",
       "  <tbody>\n",
       "    <tr>\n",
       "      <th>0</th>\n",
       "      <td>ANIL KUMAR</td>\n",
       "      <td>['+911234567890']</td>\n",
       "      <td>ijayawadaabc@xyz.com</td>\n",
       "      <td>['https://www.linkedin.com/fake', 'https://www...</td>\n",
       "      <td>[('MS', '2016'), 'BTech']</td>\n",
       "      <td>['Sql', 'Debugging', 'Technical', 'Windows', '...</td>\n",
       "      <td>['Velagapudi siddhartha engineering college']</td>\n",
       "      <td>2.4</td>\n",
       "    </tr>\n",
       "    <tr>\n",
       "      <th>1</th>\n",
       "      <td>Aradhana Tripathi</td>\n",
       "      <td>['+911234567890']</td>\n",
       "      <td>niversity.abc@xyz.com</td>\n",
       "      <td>['https://www.linkedin.com/fake', 'https://www...</td>\n",
       "      <td>['MS', 'MCA']</td>\n",
       "      <td>['Sql', 'Acquisition', 'Stakeholder management...</td>\n",
       "      <td>['AKS University', ' IIIT ']</td>\n",
       "      <td>4</td>\n",
       "    </tr>\n",
       "    <tr>\n",
       "      <th>2</th>\n",
       "      <td>Database Engineer</td>\n",
       "      <td>['+911234567890']</td>\n",
       "      <td>knowledge.abc@xyz.com</td>\n",
       "      <td>['https://www.linkedin.com/fake', 'https://www...</td>\n",
       "      <td>['MS', ('SSC', '2011')]</td>\n",
       "      <td>['Sql', 'Servers', 'Technical', 'Programming',...</td>\n",
       "      <td>['Create ETL Jobs And Monitoring The Jobs ACAD...</td>\n",
       "      <td>NaN</td>\n",
       "    </tr>\n",
       "    <tr>\n",
       "      <th>3</th>\n",
       "      <td>Chinna Subbarayudu</td>\n",
       "      <td>['+911234567890']</td>\n",
       "      <td>2abc@xyz.com</td>\n",
       "      <td>['https://www.linkedin.com/fake', 'https://www...</td>\n",
       "      <td>['MS']</td>\n",
       "      <td>['Policies', 'Sql', 'Web services', 'Prototypi...</td>\n",
       "      <td>['Yogi Vemana University']</td>\n",
       "      <td>5.1</td>\n",
       "    </tr>\n",
       "    <tr>\n",
       "      <th>4</th>\n",
       "      <td>Gopi Krishna</td>\n",
       "      <td>['+911234567890']</td>\n",
       "      <td>annada.abc@xyz.com</td>\n",
       "      <td>['https://www.linkedin.com/fake', 'https://www...</td>\n",
       "      <td>['Bachelor of Degree from JNTU - K University ...</td>\n",
       "      <td>['Specifications', 'Technical', 'Communication...</td>\n",
       "      <td>['JNTU']</td>\n",
       "      <td>3+</td>\n",
       "    </tr>\n",
       "    <tr>\n",
       "      <th>5</th>\n",
       "      <td>Hari Krishna</td>\n",
       "      <td>['+911234567890']</td>\n",
       "      <td>11iabc@xyz.com</td>\n",
       "      <td>['https://www.linkedin.com/fake', 'https://www...</td>\n",
       "      <td>[('MCA', '2013')]</td>\n",
       "      <td>['Hardware', 'Web services', 'Prototyping', 'S...</td>\n",
       "      <td>['JNTU University', 'JNTU']</td>\n",
       "      <td>3.10</td>\n",
       "    </tr>\n",
       "    <tr>\n",
       "      <th>6</th>\n",
       "      <td>Harikrishna Akula</td>\n",
       "      <td>['+911234567890']</td>\n",
       "      <td>andyala.abc@xyz.com</td>\n",
       "      <td>['https://www.linkedin.com/fake', 'https://www...</td>\n",
       "      <td>['Ms', 'MS']</td>\n",
       "      <td>['Sql', 'Web services', 'Workflow', 'Specifica...</td>\n",
       "      <td>['EDUCATION: Bachelore in Civil Engineering Fr...</td>\n",
       "      <td>5.2</td>\n",
       "    </tr>\n",
       "    <tr>\n",
       "      <th>7</th>\n",
       "      <td>Career Objective</td>\n",
       "      <td>['+911234567890']</td>\n",
       "      <td>basis.abc@xyz.com</td>\n",
       "      <td>['https://www.linkedin.com/fake', 'https://www...</td>\n",
       "      <td>['Be']</td>\n",
       "      <td>['Policies', 'System', 'Cloud', 'Engagement', ...</td>\n",
       "      <td>[]</td>\n",
       "      <td>NaN</td>\n",
       "    </tr>\n",
       "    <tr>\n",
       "      <th>8</th>\n",
       "      <td>G Himaja</td>\n",
       "      <td>['+911234567890']</td>\n",
       "      <td>imajaabc@xyz.com</td>\n",
       "      <td>['https://www.linkedin.com/fake', 'https://www...</td>\n",
       "      <td>NaN</td>\n",
       "      <td>['End user', 'Technical', 'Schedule', 'Windows...</td>\n",
       "      <td>['Education: Completed Degree (BSc.', 'S V Uni...</td>\n",
       "      <td>3</td>\n",
       "    </tr>\n",
       "    <tr>\n",
       "      <th>9</th>\n",
       "      <td>Ravali P</td>\n",
       "      <td>['+911234567890']</td>\n",
       "      <td>angaloreabc@xyz.com</td>\n",
       "      <td>['https://www.linkedin.com/fake', 'https://www...</td>\n",
       "      <td>['BE']</td>\n",
       "      <td>['Sql', 'Sdlc', 'Technical', 'Test cases', 'En...</td>\n",
       "      <td>['E D U C A T ION E D U C A T ION Degree/Cours...</td>\n",
       "      <td>NaN</td>\n",
       "    </tr>\n",
       "  </tbody>\n",
       "</table>\n",
       "</div>"
      ],
      "text/plain": [
       "                 Name             Number               Email ID  \\\n",
       "0          ANIL KUMAR  ['+911234567890']   ijayawadaabc@xyz.com   \n",
       "1   Aradhana Tripathi  ['+911234567890']  niversity.abc@xyz.com   \n",
       "2   Database Engineer  ['+911234567890']  knowledge.abc@xyz.com   \n",
       "3  Chinna Subbarayudu  ['+911234567890']           2abc@xyz.com   \n",
       "4        Gopi Krishna  ['+911234567890']     annada.abc@xyz.com   \n",
       "5        Hari Krishna  ['+911234567890']         11iabc@xyz.com   \n",
       "6   Harikrishna Akula  ['+911234567890']    andyala.abc@xyz.com   \n",
       "7    Career Objective  ['+911234567890']      basis.abc@xyz.com   \n",
       "8            G Himaja  ['+911234567890']       imajaabc@xyz.com   \n",
       "9            Ravali P  ['+911234567890']    angaloreabc@xyz.com   \n",
       "\n",
       "                                               Links  \\\n",
       "0  ['https://www.linkedin.com/fake', 'https://www...   \n",
       "1  ['https://www.linkedin.com/fake', 'https://www...   \n",
       "2  ['https://www.linkedin.com/fake', 'https://www...   \n",
       "3  ['https://www.linkedin.com/fake', 'https://www...   \n",
       "4  ['https://www.linkedin.com/fake', 'https://www...   \n",
       "5  ['https://www.linkedin.com/fake', 'https://www...   \n",
       "6  ['https://www.linkedin.com/fake', 'https://www...   \n",
       "7  ['https://www.linkedin.com/fake', 'https://www...   \n",
       "8  ['https://www.linkedin.com/fake', 'https://www...   \n",
       "9  ['https://www.linkedin.com/fake', 'https://www...   \n",
       "\n",
       "                                           Education  \\\n",
       "0                          [('MS', '2016'), 'BTech']   \n",
       "1                                      ['MS', 'MCA']   \n",
       "2                            ['MS', ('SSC', '2011')]   \n",
       "3                                             ['MS']   \n",
       "4  ['Bachelor of Degree from JNTU - K University ...   \n",
       "5                                  [('MCA', '2013')]   \n",
       "6                                       ['Ms', 'MS']   \n",
       "7                                             ['Be']   \n",
       "8                                                NaN   \n",
       "9                                             ['BE']   \n",
       "\n",
       "                                              Skills  \\\n",
       "0  ['Sql', 'Debugging', 'Technical', 'Windows', '...   \n",
       "1  ['Sql', 'Acquisition', 'Stakeholder management...   \n",
       "2  ['Sql', 'Servers', 'Technical', 'Programming',...   \n",
       "3  ['Policies', 'Sql', 'Web services', 'Prototypi...   \n",
       "4  ['Specifications', 'Technical', 'Communication...   \n",
       "5  ['Hardware', 'Web services', 'Prototyping', 'S...   \n",
       "6  ['Sql', 'Web services', 'Workflow', 'Specifica...   \n",
       "7  ['Policies', 'System', 'Cloud', 'Engagement', ...   \n",
       "8  ['End user', 'Technical', 'Schedule', 'Windows...   \n",
       "9  ['Sql', 'Sdlc', 'Technical', 'Test cases', 'En...   \n",
       "\n",
       "                                     University Name Years of Experience  \n",
       "0      ['Velagapudi siddhartha engineering college']                 2.4  \n",
       "1                       ['AKS University', ' IIIT ']                   4  \n",
       "2  ['Create ETL Jobs And Monitoring The Jobs ACAD...                 NaN  \n",
       "3                         ['Yogi Vemana University']                 5.1  \n",
       "4                                           ['JNTU']                  3+  \n",
       "5                        ['JNTU University', 'JNTU']                3.10  \n",
       "6  ['EDUCATION: Bachelore in Civil Engineering Fr...                 5.2  \n",
       "7                                                 []                 NaN  \n",
       "8  ['Education: Completed Degree (BSc.', 'S V Uni...                   3  \n",
       "9  ['E D U C A T ION E D U C A T ION Degree/Cours...                 NaN  "
      ]
     },
     "execution_count": 232,
     "metadata": {},
     "output_type": "execute_result"
    }
   ],
   "source": [
    "details_df['University Name'] = uni_list\n",
    "details_df.head(10)"
   ]
  },
  {
   "cell_type": "code",
   "execution_count": 148,
   "metadata": {},
   "outputs": [],
   "source": [
    "# details_df.to_csv('FinalDF.csv')"
   ]
  },
  {
   "cell_type": "code",
   "execution_count": 149,
   "metadata": {},
   "outputs": [],
   "source": [
    "details_df = pd.read_csv('FinalDF.csv')\n",
    "details_df = details_df.iloc[:,1:]"
   ]
  },
  {
   "cell_type": "markdown",
   "metadata": {},
   "source": [
    "# Extracting Years of Experience"
   ]
  },
  {
   "cell_type": "code",
   "execution_count": 1,
   "metadata": {},
   "outputs": [],
   "source": [
    "import numpy as np"
   ]
  },
  {
   "cell_type": "code",
   "execution_count": 56,
   "metadata": {},
   "outputs": [],
   "source": [
    "def extract_years_of_experience(text):\n",
    "    lines = sent_tokenize(text)             # Sentence Tokenization\n",
    "    experience = []\n",
    "    for sentence in lines:\n",
    "        if re.search('experience',sentence.lower()):        # Search for 'experience' keyword in sentence\n",
    "            sen_tokenized = nltk.word_tokenize(sentence)\n",
    "            tagged = nltk.pos_tag(sen_tokenized)            # POS Tagging\n",
    "            entities = nltk.chunk.ne_chunk(tagged)          # Structuring data into tree\n",
    "            for subtree in entities.subtrees():\n",
    "                for leaf in subtree.leaves():\n",
    "                    # print(leaf)\n",
    "                    if leaf[1] == 'CD':                     # Search for numerical values in the sentence\n",
    "                        experience.append(leaf[0])\n",
    "                        \n",
    "    exp = []\n",
    "    for ele in experience:\n",
    "        if len(ele) <= 3 or (len(ele) <= 4 and ele[-1] == '0' \n",
    "                                and ele not in ('2020','2010','2000')):       # Finding relevant numerical value for experience\n",
    "            exp.append(ele)\n",
    "    if exp:\n",
    "        return exp[0]\n",
    "    else:\n",
    "        return np.nan\n",
    "\n",
    "\n",
    "# Calling function\n",
    "years_of_experience = []\n",
    "for i in range(len(df)):\n",
    "    years_of_experience.append(extract_years_of_experience(df['Resume Text'][i]))"
   ]
  },
  {
   "cell_type": "code",
   "execution_count": 7,
   "metadata": {},
   "outputs": [
    {
     "data": {
      "text/html": [
       "<div>\n",
       "<style scoped>\n",
       "    .dataframe tbody tr th:only-of-type {\n",
       "        vertical-align: middle;\n",
       "    }\n",
       "\n",
       "    .dataframe tbody tr th {\n",
       "        vertical-align: top;\n",
       "    }\n",
       "\n",
       "    .dataframe thead th {\n",
       "        text-align: right;\n",
       "    }\n",
       "</style>\n",
       "<table border=\"1\" class=\"dataframe\">\n",
       "  <thead>\n",
       "    <tr style=\"text-align: right;\">\n",
       "      <th></th>\n",
       "      <th>Name</th>\n",
       "      <th>Number</th>\n",
       "      <th>Email ID</th>\n",
       "      <th>Links</th>\n",
       "      <th>Education</th>\n",
       "      <th>Skills</th>\n",
       "      <th>University Name</th>\n",
       "      <th>Years of Experience</th>\n",
       "    </tr>\n",
       "  </thead>\n",
       "  <tbody>\n",
       "    <tr>\n",
       "      <th>0</th>\n",
       "      <td>ANIL KUMAR</td>\n",
       "      <td>['+911234567890']</td>\n",
       "      <td>ijayawadaabc@xyz.com</td>\n",
       "      <td>['https://www.linkedin.com/fake', 'https://www...</td>\n",
       "      <td>[('MS', '2016'), 'BTech']</td>\n",
       "      <td>['Sql', 'Debugging', 'Technical', 'Windows', '...</td>\n",
       "      <td>['Velagapudi siddhartha engineering college']</td>\n",
       "      <td>2.4</td>\n",
       "    </tr>\n",
       "    <tr>\n",
       "      <th>1</th>\n",
       "      <td>Aradhana Tripathi</td>\n",
       "      <td>['+911234567890']</td>\n",
       "      <td>niversity.abc@xyz.com</td>\n",
       "      <td>['https://www.linkedin.com/fake', 'https://www...</td>\n",
       "      <td>['MS', 'MCA']</td>\n",
       "      <td>['Sql', 'Acquisition', 'Stakeholder management...</td>\n",
       "      <td>['AKS University', ' IIIT ']</td>\n",
       "      <td>4</td>\n",
       "    </tr>\n",
       "    <tr>\n",
       "      <th>2</th>\n",
       "      <td>Database Engineer</td>\n",
       "      <td>['+911234567890']</td>\n",
       "      <td>knowledge.abc@xyz.com</td>\n",
       "      <td>['https://www.linkedin.com/fake', 'https://www...</td>\n",
       "      <td>['MS', ('SSC', '2011')]</td>\n",
       "      <td>['Sql', 'Servers', 'Technical', 'Programming',...</td>\n",
       "      <td>['Create ETL Jobs And Monitoring The Jobs ACAD...</td>\n",
       "      <td>NaN</td>\n",
       "    </tr>\n",
       "    <tr>\n",
       "      <th>3</th>\n",
       "      <td>Chinna Subbarayudu</td>\n",
       "      <td>['+911234567890']</td>\n",
       "      <td>2abc@xyz.com</td>\n",
       "      <td>['https://www.linkedin.com/fake', 'https://www...</td>\n",
       "      <td>['MS']</td>\n",
       "      <td>['Policies', 'Sql', 'Web services', 'Prototypi...</td>\n",
       "      <td>['Yogi Vemana University']</td>\n",
       "      <td>5.1</td>\n",
       "    </tr>\n",
       "    <tr>\n",
       "      <th>4</th>\n",
       "      <td>Gopi Krishna</td>\n",
       "      <td>['+911234567890']</td>\n",
       "      <td>annada.abc@xyz.com</td>\n",
       "      <td>['https://www.linkedin.com/fake', 'https://www...</td>\n",
       "      <td>['Bachelor of Degree from JNTU - K University ...</td>\n",
       "      <td>['Specifications', 'Technical', 'Communication...</td>\n",
       "      <td>['JNTU']</td>\n",
       "      <td>3+</td>\n",
       "    </tr>\n",
       "    <tr>\n",
       "      <th>5</th>\n",
       "      <td>Hari Krishna</td>\n",
       "      <td>['+911234567890']</td>\n",
       "      <td>11iabc@xyz.com</td>\n",
       "      <td>['https://www.linkedin.com/fake', 'https://www...</td>\n",
       "      <td>[('MCA', '2013')]</td>\n",
       "      <td>['Hardware', 'Web services', 'Prototyping', 'S...</td>\n",
       "      <td>['JNTU University', 'JNTU']</td>\n",
       "      <td>3.10</td>\n",
       "    </tr>\n",
       "    <tr>\n",
       "      <th>6</th>\n",
       "      <td>Harikrishna Akula</td>\n",
       "      <td>['+911234567890']</td>\n",
       "      <td>andyala.abc@xyz.com</td>\n",
       "      <td>['https://www.linkedin.com/fake', 'https://www...</td>\n",
       "      <td>['Ms', 'MS']</td>\n",
       "      <td>['Sql', 'Web services', 'Workflow', 'Specifica...</td>\n",
       "      <td>['EDUCATION: Bachelore in Civil Engineering Fr...</td>\n",
       "      <td>5.2</td>\n",
       "    </tr>\n",
       "    <tr>\n",
       "      <th>7</th>\n",
       "      <td>Career Objective</td>\n",
       "      <td>['+911234567890']</td>\n",
       "      <td>basis.abc@xyz.com</td>\n",
       "      <td>['https://www.linkedin.com/fake', 'https://www...</td>\n",
       "      <td>['Be']</td>\n",
       "      <td>['Policies', 'System', 'Cloud', 'Engagement', ...</td>\n",
       "      <td>NaN</td>\n",
       "      <td>NaN</td>\n",
       "    </tr>\n",
       "    <tr>\n",
       "      <th>8</th>\n",
       "      <td>G Himaja</td>\n",
       "      <td>['+911234567890']</td>\n",
       "      <td>imajaabc@xyz.com</td>\n",
       "      <td>['https://www.linkedin.com/fake', 'https://www...</td>\n",
       "      <td>NaN</td>\n",
       "      <td>['End user', 'Technical', 'Schedule', 'Windows...</td>\n",
       "      <td>['Education: Completed Degree (BSc.', 'S V Uni...</td>\n",
       "      <td>3</td>\n",
       "    </tr>\n",
       "    <tr>\n",
       "      <th>9</th>\n",
       "      <td>Ravali P</td>\n",
       "      <td>['+911234567890']</td>\n",
       "      <td>angaloreabc@xyz.com</td>\n",
       "      <td>['https://www.linkedin.com/fake', 'https://www...</td>\n",
       "      <td>['BE']</td>\n",
       "      <td>['Sql', 'Sdlc', 'Technical', 'Test cases', 'En...</td>\n",
       "      <td>['E D U C A T ION E D U C A T ION Degree/Cours...</td>\n",
       "      <td>NaN</td>\n",
       "    </tr>\n",
       "  </tbody>\n",
       "</table>\n",
       "</div>"
      ],
      "text/plain": [
       "                 Name             Number               Email ID  \\\n",
       "0          ANIL KUMAR  ['+911234567890']   ijayawadaabc@xyz.com   \n",
       "1   Aradhana Tripathi  ['+911234567890']  niversity.abc@xyz.com   \n",
       "2   Database Engineer  ['+911234567890']  knowledge.abc@xyz.com   \n",
       "3  Chinna Subbarayudu  ['+911234567890']           2abc@xyz.com   \n",
       "4        Gopi Krishna  ['+911234567890']     annada.abc@xyz.com   \n",
       "5        Hari Krishna  ['+911234567890']         11iabc@xyz.com   \n",
       "6   Harikrishna Akula  ['+911234567890']    andyala.abc@xyz.com   \n",
       "7    Career Objective  ['+911234567890']      basis.abc@xyz.com   \n",
       "8            G Himaja  ['+911234567890']       imajaabc@xyz.com   \n",
       "9            Ravali P  ['+911234567890']    angaloreabc@xyz.com   \n",
       "\n",
       "                                               Links  \\\n",
       "0  ['https://www.linkedin.com/fake', 'https://www...   \n",
       "1  ['https://www.linkedin.com/fake', 'https://www...   \n",
       "2  ['https://www.linkedin.com/fake', 'https://www...   \n",
       "3  ['https://www.linkedin.com/fake', 'https://www...   \n",
       "4  ['https://www.linkedin.com/fake', 'https://www...   \n",
       "5  ['https://www.linkedin.com/fake', 'https://www...   \n",
       "6  ['https://www.linkedin.com/fake', 'https://www...   \n",
       "7  ['https://www.linkedin.com/fake', 'https://www...   \n",
       "8  ['https://www.linkedin.com/fake', 'https://www...   \n",
       "9  ['https://www.linkedin.com/fake', 'https://www...   \n",
       "\n",
       "                                           Education  \\\n",
       "0                          [('MS', '2016'), 'BTech']   \n",
       "1                                      ['MS', 'MCA']   \n",
       "2                            ['MS', ('SSC', '2011')]   \n",
       "3                                             ['MS']   \n",
       "4  ['Bachelor of Degree from JNTU - K University ...   \n",
       "5                                  [('MCA', '2013')]   \n",
       "6                                       ['Ms', 'MS']   \n",
       "7                                             ['Be']   \n",
       "8                                                NaN   \n",
       "9                                             ['BE']   \n",
       "\n",
       "                                              Skills  \\\n",
       "0  ['Sql', 'Debugging', 'Technical', 'Windows', '...   \n",
       "1  ['Sql', 'Acquisition', 'Stakeholder management...   \n",
       "2  ['Sql', 'Servers', 'Technical', 'Programming',...   \n",
       "3  ['Policies', 'Sql', 'Web services', 'Prototypi...   \n",
       "4  ['Specifications', 'Technical', 'Communication...   \n",
       "5  ['Hardware', 'Web services', 'Prototyping', 'S...   \n",
       "6  ['Sql', 'Web services', 'Workflow', 'Specifica...   \n",
       "7  ['Policies', 'System', 'Cloud', 'Engagement', ...   \n",
       "8  ['End user', 'Technical', 'Schedule', 'Windows...   \n",
       "9  ['Sql', 'Sdlc', 'Technical', 'Test cases', 'En...   \n",
       "\n",
       "                                     University Name Years of Experience  \n",
       "0      ['Velagapudi siddhartha engineering college']                 2.4  \n",
       "1                       ['AKS University', ' IIIT ']                   4  \n",
       "2  ['Create ETL Jobs And Monitoring The Jobs ACAD...                 NaN  \n",
       "3                         ['Yogi Vemana University']                 5.1  \n",
       "4                                           ['JNTU']                  3+  \n",
       "5                        ['JNTU University', 'JNTU']                3.10  \n",
       "6  ['EDUCATION: Bachelore in Civil Engineering Fr...                 5.2  \n",
       "7                                                NaN                 NaN  \n",
       "8  ['Education: Completed Degree (BSc.', 'S V Uni...                   3  \n",
       "9  ['E D U C A T ION E D U C A T ION Degree/Cours...                 NaN  "
      ]
     },
     "execution_count": 7,
     "metadata": {},
     "output_type": "execute_result"
    }
   ],
   "source": [
    "details_df['Years of Experience'] = years_of_experience\n",
    "details_df.head(10)"
   ]
  },
  {
   "cell_type": "code",
   "execution_count": 233,
   "metadata": {},
   "outputs": [],
   "source": [
    "# Replacing empty lists with NaN\n",
    "details_df.replace('[]', np.nan, inplace=True)"
   ]
  },
  {
   "cell_type": "code",
   "execution_count": 8,
   "metadata": {},
   "outputs": [
    {
     "data": {
      "text/plain": [
       "Name                    0\n",
       "Number                  0\n",
       "Email ID                0\n",
       "Links                   0\n",
       "Education              11\n",
       "Skills                  0\n",
       "University Name         9\n",
       "Years of Experience     9\n",
       "dtype: int64"
      ]
     },
     "execution_count": 8,
     "metadata": {},
     "output_type": "execute_result"
    }
   ],
   "source": [
    "details_df.isnull().sum()"
   ]
  },
  {
   "cell_type": "code",
   "execution_count": 59,
   "metadata": {},
   "outputs": [],
   "source": [
    "# details_df.to_csv('FinalDF.csv')"
   ]
  },
  {
   "cell_type": "code",
   "execution_count": null,
   "metadata": {},
   "outputs": [],
   "source": []
  }
 ],
 "metadata": {
  "interpreter": {
   "hash": "ac59ebe37160ed0dfa835113d9b8498d9f09ceb179beaac4002f036b9467c963"
  },
  "kernelspec": {
   "display_name": "Python 3",
   "language": "python",
   "name": "python3"
  },
  "language_info": {
   "codemirror_mode": {
    "name": "ipython",
    "version": 3
   },
   "file_extension": ".py",
   "mimetype": "text/x-python",
   "name": "python",
   "nbconvert_exporter": "python",
   "pygments_lexer": "ipython3",
   "version": "3.9.5"
  }
 },
 "nbformat": 4,
 "nbformat_minor": 2
}
